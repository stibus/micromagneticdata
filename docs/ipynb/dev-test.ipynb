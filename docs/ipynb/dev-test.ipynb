{
 "cells": [
  {
   "cell_type": "markdown",
   "metadata": {},
   "source": [
    "# Dev test"
   ]
  },
  {
   "cell_type": "code",
   "execution_count": 1,
   "metadata": {},
   "outputs": [],
   "source": [
    "import os\n",
    "import micromagneticdata as md"
   ]
  },
  {
   "cell_type": "code",
   "execution_count": 2,
   "metadata": {},
   "outputs": [],
   "source": [
    "dirname = os.path.join('..', '..', 'micromagneticdata', 'tests', 'test_sample')"
   ]
  },
  {
   "cell_type": "code",
   "execution_count": 3,
   "metadata": {},
   "outputs": [],
   "source": [
    "data = md.Data(name='system_name', dirname=dirname)"
   ]
  },
  {
   "cell_type": "code",
   "execution_count": 4,
   "metadata": {},
   "outputs": [
    {
     "data": {
      "text/plain": [
       "7"
      ]
     },
     "execution_count": 4,
     "metadata": {},
     "output_type": "execute_result"
    }
   ],
   "source": [
    "data.n"
   ]
  },
  {
   "cell_type": "code",
   "execution_count": 5,
   "metadata": {},
   "outputs": [
    {
     "data": {
      "text/html": [
       "<div>\n",
       "<style scoped>\n",
       "    .dataframe tbody tr th:only-of-type {\n",
       "        vertical-align: middle;\n",
       "    }\n",
       "\n",
       "    .dataframe tbody tr th {\n",
       "        vertical-align: top;\n",
       "    }\n",
       "\n",
       "    .dataframe thead th {\n",
       "        text-align: right;\n",
       "    }\n",
       "</style>\n",
       "<table border=\"1\" class=\"dataframe\">\n",
       "  <thead>\n",
       "    <tr style=\"text-align: right;\">\n",
       "      <th></th>\n",
       "      <th>drive_number</th>\n",
       "      <th>date</th>\n",
       "      <th>time</th>\n",
       "      <th>driver</th>\n",
       "      <th>t</th>\n",
       "      <th>n</th>\n",
       "      <th>Hmin</th>\n",
       "      <th>Hmax</th>\n",
       "    </tr>\n",
       "  </thead>\n",
       "  <tbody>\n",
       "    <tr>\n",
       "      <th>0</th>\n",
       "      <td>0</td>\n",
       "      <td>2021-01-01</td>\n",
       "      <td>15:58:14</td>\n",
       "      <td>TimeDriver</td>\n",
       "      <td>2.500000e-11</td>\n",
       "      <td>25.0</td>\n",
       "      <td>NaN</td>\n",
       "      <td>NaN</td>\n",
       "    </tr>\n",
       "    <tr>\n",
       "      <th>1</th>\n",
       "      <td>1</td>\n",
       "      <td>2021-01-01</td>\n",
       "      <td>15:58:15</td>\n",
       "      <td>TimeDriver</td>\n",
       "      <td>1.500000e-11</td>\n",
       "      <td>15.0</td>\n",
       "      <td>NaN</td>\n",
       "      <td>NaN</td>\n",
       "    </tr>\n",
       "    <tr>\n",
       "      <th>2</th>\n",
       "      <td>2</td>\n",
       "      <td>2021-01-01</td>\n",
       "      <td>15:58:17</td>\n",
       "      <td>TimeDriver</td>\n",
       "      <td>5.000000e-12</td>\n",
       "      <td>10.0</td>\n",
       "      <td>NaN</td>\n",
       "      <td>NaN</td>\n",
       "    </tr>\n",
       "    <tr>\n",
       "      <th>3</th>\n",
       "      <td>3</td>\n",
       "      <td>2021-01-01</td>\n",
       "      <td>15:58:18</td>\n",
       "      <td>MinDriver</td>\n",
       "      <td>NaN</td>\n",
       "      <td>NaN</td>\n",
       "      <td>NaN</td>\n",
       "      <td>NaN</td>\n",
       "    </tr>\n",
       "    <tr>\n",
       "      <th>4</th>\n",
       "      <td>4</td>\n",
       "      <td>2021-01-01</td>\n",
       "      <td>15:58:19</td>\n",
       "      <td>TimeDriver</td>\n",
       "      <td>5.000000e-12</td>\n",
       "      <td>5.0</td>\n",
       "      <td>NaN</td>\n",
       "      <td>NaN</td>\n",
       "    </tr>\n",
       "    <tr>\n",
       "      <th>5</th>\n",
       "      <td>5</td>\n",
       "      <td>2021-01-01</td>\n",
       "      <td>15:58:20</td>\n",
       "      <td>MinDriver</td>\n",
       "      <td>NaN</td>\n",
       "      <td>NaN</td>\n",
       "      <td>NaN</td>\n",
       "      <td>NaN</td>\n",
       "    </tr>\n",
       "    <tr>\n",
       "      <th>6</th>\n",
       "      <td>6</td>\n",
       "      <td>2021-01-01</td>\n",
       "      <td>15:58:21</td>\n",
       "      <td>HysteresisDriver</td>\n",
       "      <td>NaN</td>\n",
       "      <td>21.0</td>\n",
       "      <td>[0, 0, 1000000.0]</td>\n",
       "      <td>[0, 0, -1000000.0]</td>\n",
       "    </tr>\n",
       "  </tbody>\n",
       "</table>\n",
       "</div>"
      ],
      "text/plain": [
       "   drive_number        date      time            driver             t     n  \\\n",
       "0             0  2021-01-01  15:58:14        TimeDriver  2.500000e-11  25.0   \n",
       "1             1  2021-01-01  15:58:15        TimeDriver  1.500000e-11  15.0   \n",
       "2             2  2021-01-01  15:58:17        TimeDriver  5.000000e-12  10.0   \n",
       "3             3  2021-01-01  15:58:18         MinDriver           NaN   NaN   \n",
       "4             4  2021-01-01  15:58:19        TimeDriver  5.000000e-12   5.0   \n",
       "5             5  2021-01-01  15:58:20         MinDriver           NaN   NaN   \n",
       "6             6  2021-01-01  15:58:21  HysteresisDriver           NaN  21.0   \n",
       "\n",
       "                Hmin                Hmax  \n",
       "0                NaN                 NaN  \n",
       "1                NaN                 NaN  \n",
       "2                NaN                 NaN  \n",
       "3                NaN                 NaN  \n",
       "4                NaN                 NaN  \n",
       "5                NaN                 NaN  \n",
       "6  [0, 0, 1000000.0]  [0, 0, -1000000.0]  "
      ]
     },
     "execution_count": 5,
     "metadata": {},
     "output_type": "execute_result"
    }
   ],
   "source": [
    "data.info"
   ]
  },
  {
   "cell_type": "code",
   "execution_count": 6,
   "metadata": {},
   "outputs": [],
   "source": [
    "drive = data[0]"
   ]
  },
  {
   "cell_type": "code",
   "execution_count": 7,
   "metadata": {},
   "outputs": [
    {
     "data": {
      "text/plain": [
       "25"
      ]
     },
     "execution_count": 7,
     "metadata": {},
     "output_type": "execute_result"
    }
   ],
   "source": [
    "drive.n"
   ]
  },
  {
   "cell_type": "code",
   "execution_count": 8,
   "metadata": {},
   "outputs": [
    {
     "data": {
      "text/plain": [
       "{'drive_number': 0,\n",
       " 'date': '2021-01-01',\n",
       " 'time': '15:58:14',\n",
       " 'driver': 'TimeDriver',\n",
       " 't': 2.5e-11,\n",
       " 'n': 25}"
      ]
     },
     "execution_count": 8,
     "metadata": {},
     "output_type": "execute_result"
    }
   ],
   "source": [
    "drive.info"
   ]
  },
  {
   "cell_type": "code",
   "execution_count": 9,
   "metadata": {},
   "outputs": [
    {
     "data": {
      "application/vnd.jupyter.widget-view+json": {
       "model_id": "dc3dfbed927a43b8882f9b3fb035aeca",
       "version_major": 2,
       "version_minor": 0
      },
      "text/plain": [
       "BoundedIntText(value=0, description='drive', max=6)"
      ]
     },
     "metadata": {},
     "output_type": "display_data"
    }
   ],
   "source": [
    "data.selector()"
   ]
  },
  {
   "cell_type": "code",
   "execution_count": 10,
   "metadata": {},
   "outputs": [],
   "source": [
    "drive = data[-1]"
   ]
  },
  {
   "cell_type": "code",
   "execution_count": 11,
   "metadata": {},
   "outputs": [
    {
     "data": {
      "text/plain": [
       "'B'"
      ]
     },
     "execution_count": 11,
     "metadata": {},
     "output_type": "execute_result"
    }
   ],
   "source": [
    "drive.x"
   ]
  },
  {
   "cell_type": "code",
   "execution_count": 12,
   "metadata": {},
   "outputs": [
    {
     "data": {
      "text/plain": [
       "{'drive_number': 6,\n",
       " 'date': '2021-01-01',\n",
       " 'time': '15:58:21',\n",
       " 'driver': 'HysteresisDriver',\n",
       " 'Hmin': [0, 0, 1000000.0],\n",
       " 'Hmax': [0, 0, -1000000.0],\n",
       " 'n': 21}"
      ]
     },
     "execution_count": 12,
     "metadata": {},
     "output_type": "execute_result"
    }
   ],
   "source": [
    "drive.info"
   ]
  },
  {
   "cell_type": "code",
   "execution_count": 13,
   "metadata": {},
   "outputs": [
    {
     "name": "stdout",
     "output_type": "stream",
     "text": [
      "# MIF 2.2\n",
      "\n",
      "SetOptions {\n",
      "  basename system_name\n",
      "  scalar_output_format %.12g\n",
      "  scalar_field_output_format {text %#.15g}\n",
      "  vector_field_output_format {text %#.15g}\n",
      "}\n",
      "\n",
      "# BoxAtlas for main_atlas\n",
      "Specify Oxs_BoxAtlas:main_atlas {\n",
      "  xrange { 0.0 1e-07 }\n",
      "  yrange { 0.0 5e-08 }\n",
      "  zrange { 0.0 2e-08 }\n",
      "  name main\n",
      "}\n",
      "\n",
      "# RectangularMesh\n",
      "Specify Oxs_RectangularMesh:mesh {\n",
      "  cellsize { 5e-09 5e-09 5e-09 }\n",
      "  atlas :main_atlas\n",
      "}\n",
      "\n",
      "# UniformExchange\n",
      "Specify Oxs_UniformExchange:exchange {\n",
      "  A 1.3e-11\n",
      "}\n",
      "\n",
      "# FixedZeeman\n",
      "Specify Oxs_FixedZeeman:zeeman {\n",
      "  field {0.0 0.0 1000000.0}\n",
      "}\n",
      "\n",
      "# m0 file\n",
      "Specify Oxs_FileVectorField:m0 {\n",
      "  file m0.omf\n",
      "  atlas :main_atlas\n",
      "}\n",
      "\n",
      "# m0_norm\n",
      "Specify Oxs_VecMagScalarField:m0_norm {\n",
      "    field :m0\n",
      "}\n",
      "\n",
      "# CGEvolver\n",
      "Specify Oxs_CGEvolve:evolver {\n",
      "}\n",
      "\n",
      "# OxS_UZeeman\n",
      "Specify Oxs_UZeeman {\n",
      "  Hrange {\n",
      "    { 0 0 1000000.0 0 0 -1000000.0 20 }\n",
      "    { 0 0 -1000000.0 0 0 1000000.0 20 }\n",
      "  }\n",
      "}\n",
      "\n",
      "# MinDriver\n",
      "Specify Oxs_MinDriver {\n",
      "  evolver :evolver\n",
      "  mesh :mesh\n",
      "  Ms :m0_norm\n",
      "  m0 :m0\n",
      "  stopping_mxHxm 0.1\n",
      "}\n",
      "\n",
      "Destination table mmArchive\n",
      "Destination mags mmArchive\n",
      "\n",
      "Schedule DataTable table Stage 1\n",
      "Schedule Oxs_MinDriver::Magnetization mags Stage 1\n"
     ]
    }
   ],
   "source": [
    "print(drive.mif)"
   ]
  },
  {
   "cell_type": "code",
   "execution_count": 14,
   "metadata": {},
   "outputs": [
    {
     "data": {
      "text/plain": [
       "Field(mesh=Mesh(region=Region(p1=(0.0, 0.0, 0.0), p2=(1e-07, 5e-08, 2e-08)), n=(20, 10, 4), bc='', subregions={}), dim=3)"
      ]
     },
     "execution_count": 14,
     "metadata": {},
     "output_type": "execute_result"
    }
   ],
   "source": [
    "drive.m0"
   ]
  },
  {
   "cell_type": "code",
   "execution_count": 15,
   "metadata": {},
   "outputs": [
    {
     "data": {
      "image/png": "[encoded data removed]",
      "text/plain": [
       "<Figure size 576x432 with 1 Axes>"
      ]
     },
     "metadata": {},
     "output_type": "display_data"
    }
   ],
   "source": [
    "drive.table.mpl(x='B', y=['mx', 'my', 'mz'])"
   ]
  },
  {
   "cell_type": "code",
   "execution_count": 16,
   "metadata": {},
   "outputs": [
    {
     "data": {
      "text/plain": [
       "41"
      ]
     },
     "execution_count": 16,
     "metadata": {},
     "output_type": "execute_result"
    }
   ],
   "source": [
    "drive.n"
   ]
  },
  {
   "cell_type": "code",
   "execution_count": 17,
   "metadata": {},
   "outputs": [
    {
     "data": {
      "text/plain": [
       "Field(mesh=Mesh(region=Region(p1=(0.0, 0.0, 0.0), p2=(1e-07, 5e-08, 2e-08)), n=(20, 10, 4), bc='', subregions={}), dim=3)"
      ]
     },
     "execution_count": 17,
     "metadata": {},
     "output_type": "execute_result"
    }
   ],
   "source": [
    "drive[0]"
   ]
  },
  {
   "cell_type": "code",
   "execution_count": 18,
   "metadata": {},
   "outputs": [
    {
     "data": {
      "text/plain": [
       "[Field(mesh=Mesh(region=Region(p1=(0.0, 0.0, 0.0), p2=(1e-07, 5e-08, 2e-08)), n=(20, 10, 4), bc='', subregions={}), dim=3),\n",
       " Field(mesh=Mesh(region=Region(p1=(0.0, 0.0, 0.0), p2=(1e-07, 5e-08, 2e-08)), n=(20, 10, 4), bc='', subregions={}), dim=3),\n",
       " Field(mesh=Mesh(region=Region(p1=(0.0, 0.0, 0.0), p2=(1e-07, 5e-08, 2e-08)), n=(20, 10, 4), bc='', subregions={}), dim=3),\n",
       " Field(mesh=Mesh(region=Region(p1=(0.0, 0.0, 0.0), p2=(1e-07, 5e-08, 2e-08)), n=(20, 10, 4), bc='', subregions={}), dim=3),\n",
       " Field(mesh=Mesh(region=Region(p1=(0.0, 0.0, 0.0), p2=(1e-07, 5e-08, 2e-08)), n=(20, 10, 4), bc='', subregions={}), dim=3),\n",
       " Field(mesh=Mesh(region=Region(p1=(0.0, 0.0, 0.0), p2=(1e-07, 5e-08, 2e-08)), n=(20, 10, 4), bc='', subregions={}), dim=3),\n",
       " Field(mesh=Mesh(region=Region(p1=(0.0, 0.0, 0.0), p2=(1e-07, 5e-08, 2e-08)), n=(20, 10, 4), bc='', subregions={}), dim=3),\n",
       " Field(mesh=Mesh(region=Region(p1=(0.0, 0.0, 0.0), p2=(1e-07, 5e-08, 2e-08)), n=(20, 10, 4), bc='', subregions={}), dim=3),\n",
       " Field(mesh=Mesh(region=Region(p1=(0.0, 0.0, 0.0), p2=(1e-07, 5e-08, 2e-08)), n=(20, 10, 4), bc='', subregions={}), dim=3),\n",
       " Field(mesh=Mesh(region=Region(p1=(0.0, 0.0, 0.0), p2=(1e-07, 5e-08, 2e-08)), n=(20, 10, 4), bc='', subregions={}), dim=3),\n",
       " Field(mesh=Mesh(region=Region(p1=(0.0, 0.0, 0.0), p2=(1e-07, 5e-08, 2e-08)), n=(20, 10, 4), bc='', subregions={}), dim=3),\n",
       " Field(mesh=Mesh(region=Region(p1=(0.0, 0.0, 0.0), p2=(1e-07, 5e-08, 2e-08)), n=(20, 10, 4), bc='', subregions={}), dim=3),\n",
       " Field(mesh=Mesh(region=Region(p1=(0.0, 0.0, 0.0), p2=(1e-07, 5e-08, 2e-08)), n=(20, 10, 4), bc='', subregions={}), dim=3),\n",
       " Field(mesh=Mesh(region=Region(p1=(0.0, 0.0, 0.0), p2=(1e-07, 5e-08, 2e-08)), n=(20, 10, 4), bc='', subregions={}), dim=3),\n",
       " Field(mesh=Mesh(region=Region(p1=(0.0, 0.0, 0.0), p2=(1e-07, 5e-08, 2e-08)), n=(20, 10, 4), bc='', subregions={}), dim=3),\n",
       " Field(mesh=Mesh(region=Region(p1=(0.0, 0.0, 0.0), p2=(1e-07, 5e-08, 2e-08)), n=(20, 10, 4), bc='', subregions={}), dim=3),\n",
       " Field(mesh=Mesh(region=Region(p1=(0.0, 0.0, 0.0), p2=(1e-07, 5e-08, 2e-08)), n=(20, 10, 4), bc='', subregions={}), dim=3),\n",
       " Field(mesh=Mesh(region=Region(p1=(0.0, 0.0, 0.0), p2=(1e-07, 5e-08, 2e-08)), n=(20, 10, 4), bc='', subregions={}), dim=3),\n",
       " Field(mesh=Mesh(region=Region(p1=(0.0, 0.0, 0.0), p2=(1e-07, 5e-08, 2e-08)), n=(20, 10, 4), bc='', subregions={}), dim=3),\n",
       " Field(mesh=Mesh(region=Region(p1=(0.0, 0.0, 0.0), p2=(1e-07, 5e-08, 2e-08)), n=(20, 10, 4), bc='', subregions={}), dim=3),\n",
       " Field(mesh=Mesh(region=Region(p1=(0.0, 0.0, 0.0), p2=(1e-07, 5e-08, 2e-08)), n=(20, 10, 4), bc='', subregions={}), dim=3),\n",
       " Field(mesh=Mesh(region=Region(p1=(0.0, 0.0, 0.0), p2=(1e-07, 5e-08, 2e-08)), n=(20, 10, 4), bc='', subregions={}), dim=3),\n",
       " Field(mesh=Mesh(region=Region(p1=(0.0, 0.0, 0.0), p2=(1e-07, 5e-08, 2e-08)), n=(20, 10, 4), bc='', subregions={}), dim=3),\n",
       " Field(mesh=Mesh(region=Region(p1=(0.0, 0.0, 0.0), p2=(1e-07, 5e-08, 2e-08)), n=(20, 10, 4), bc='', subregions={}), dim=3),\n",
       " Field(mesh=Mesh(region=Region(p1=(0.0, 0.0, 0.0), p2=(1e-07, 5e-08, 2e-08)), n=(20, 10, 4), bc='', subregions={}), dim=3),\n",
       " Field(mesh=Mesh(region=Region(p1=(0.0, 0.0, 0.0), p2=(1e-07, 5e-08, 2e-08)), n=(20, 10, 4), bc='', subregions={}), dim=3),\n",
       " Field(mesh=Mesh(region=Region(p1=(0.0, 0.0, 0.0), p2=(1e-07, 5e-08, 2e-08)), n=(20, 10, 4), bc='', subregions={}), dim=3),\n",
       " Field(mesh=Mesh(region=Region(p1=(0.0, 0.0, 0.0), p2=(1e-07, 5e-08, 2e-08)), n=(20, 10, 4), bc='', subregions={}), dim=3),\n",
       " Field(mesh=Mesh(region=Region(p1=(0.0, 0.0, 0.0), p2=(1e-07, 5e-08, 2e-08)), n=(20, 10, 4), bc='', subregions={}), dim=3),\n",
       " Field(mesh=Mesh(region=Region(p1=(0.0, 0.0, 0.0), p2=(1e-07, 5e-08, 2e-08)), n=(20, 10, 4), bc='', subregions={}), dim=3),\n",
       " Field(mesh=Mesh(region=Region(p1=(0.0, 0.0, 0.0), p2=(1e-07, 5e-08, 2e-08)), n=(20, 10, 4), bc='', subregions={}), dim=3),\n",
       " Field(mesh=Mesh(region=Region(p1=(0.0, 0.0, 0.0), p2=(1e-07, 5e-08, 2e-08)), n=(20, 10, 4), bc='', subregions={}), dim=3),\n",
       " Field(mesh=Mesh(region=Region(p1=(0.0, 0.0, 0.0), p2=(1e-07, 5e-08, 2e-08)), n=(20, 10, 4), bc='', subregions={}), dim=3),\n",
       " Field(mesh=Mesh(region=Region(p1=(0.0, 0.0, 0.0), p2=(1e-07, 5e-08, 2e-08)), n=(20, 10, 4), bc='', subregions={}), dim=3),\n",
       " Field(mesh=Mesh(region=Region(p1=(0.0, 0.0, 0.0), p2=(1e-07, 5e-08, 2e-08)), n=(20, 10, 4), bc='', subregions={}), dim=3),\n",
       " Field(mesh=Mesh(region=Region(p1=(0.0, 0.0, 0.0), p2=(1e-07, 5e-08, 2e-08)), n=(20, 10, 4), bc='', subregions={}), dim=3),\n",
       " Field(mesh=Mesh(region=Region(p1=(0.0, 0.0, 0.0), p2=(1e-07, 5e-08, 2e-08)), n=(20, 10, 4), bc='', subregions={}), dim=3),\n",
       " Field(mesh=Mesh(region=Region(p1=(0.0, 0.0, 0.0), p2=(1e-07, 5e-08, 2e-08)), n=(20, 10, 4), bc='', subregions={}), dim=3),\n",
       " Field(mesh=Mesh(region=Region(p1=(0.0, 0.0, 0.0), p2=(1e-07, 5e-08, 2e-08)), n=(20, 10, 4), bc='', subregions={}), dim=3),\n",
       " Field(mesh=Mesh(region=Region(p1=(0.0, 0.0, 0.0), p2=(1e-07, 5e-08, 2e-08)), n=(20, 10, 4), bc='', subregions={}), dim=3),\n",
       " Field(mesh=Mesh(region=Region(p1=(0.0, 0.0, 0.0), p2=(1e-07, 5e-08, 2e-08)), n=(20, 10, 4), bc='', subregions={}), dim=3)]"
      ]
     },
     "execution_count": 18,
     "metadata": {},
     "output_type": "execute_result"
    }
   ],
   "source": [
    "list(drive)"
   ]
  },
  {
   "cell_type": "code",
   "execution_count": 19,
   "metadata": {},
   "outputs": [],
   "source": [
    "#drive.ovf2vtk()"
   ]
  },
  {
   "cell_type": "code",
   "execution_count": 20,
   "metadata": {},
   "outputs": [
    {
     "data": {
      "application/vnd.jupyter.widget-view+json": {
       "model_id": "a0f226ac87444543876d293b401a9652",
       "version_major": 2,
       "version_minor": 0
      },
      "text/plain": [
       "IntSlider(value=0, description='step', max=40)"
      ]
     },
     "metadata": {},
     "output_type": "display_data"
    }
   ],
   "source": [
    "drive.slider()"
   ]
  },
  {
   "cell_type": "code",
   "execution_count": 21,
   "metadata": {},
   "outputs": [
    {
     "data": {
      "text/plain": [
       "{'drive_number': 5,\n",
       " 'date': '2021-01-01',\n",
       " 'time': '15:58:20',\n",
       " 'driver': 'MinDriver'}"
      ]
     },
     "execution_count": 21,
     "metadata": {},
     "output_type": "execute_result"
    }
   ],
   "source": [
    "data[-2].info"
   ]
  },
  {
   "cell_type": "code",
   "execution_count": 22,
   "metadata": {},
   "outputs": [
    {
     "data": {
      "text/plain": [
       "14"
      ]
     },
     "execution_count": 22,
     "metadata": {},
     "output_type": "execute_result"
    }
   ],
   "source": [
    "data[-2].n"
   ]
  },
  {
   "cell_type": "code",
   "execution_count": 23,
   "metadata": {},
   "outputs": [
    {
     "data": {
      "image/png": "[encoded data removed]",
      "text/plain": [
       "<Figure size 576x432 with 1 Axes>"
      ]
     },
     "metadata": {},
     "output_type": "display_data"
    }
   ],
   "source": [
    "data[-2].table.mpl(y=['mx'])"
   ]
  }
 ],
 "metadata": {
  "kernelspec": {
   "display_name": "Python 3",
   "language": "python",
   "name": "python3"
  },
  "language_info": {
   "codemirror_mode": {
    "name": "ipython",
    "version": 3
   },
   "file_extension": ".py",
   "mimetype": "text/x-python",
   "name": "python",
   "nbconvert_exporter": "python",
   "pygments_lexer": "ipython3",
   "version": "3.8.5"
  },
  "widgets": {
   "application/vnd.jupyter.widget-state+json": {
    "state": {
     "3c0a1f7d768c466d9be4e3742b076436": {
      "model_module": "@jupyter-widgets/controls",
      "model_module_version": "1.5.0",
      "model_name": "DescriptionStyleModel",
      "state": {
       "description_width": ""
      }
     },
     "54f8a5d4d0764955bbd5731c2541d588": {
      "model_module": "@jupyter-widgets/controls",
      "model_module_version": "1.5.0",
      "model_name": "IntSliderModel",
      "state": {
       "description": "step",
       "layout": "IPY_MODEL_a887d4916b6c4899bc414814673c31a1",
       "max": 40,
       "style": "IPY_MODEL_5baf6ff479444cc89c879466fe1325c2"
      }
     },
     "5baf6ff479444cc89c879466fe1325c2": {
      "model_module": "@jupyter-widgets/controls",
      "model_module_version": "1.5.0",
      "model_name": "SliderStyleModel",
      "state": {
       "description_width": ""
      }
     },
     "a722ec53c5974db791ac4c5aac1340df": {
      "model_module": "@jupyter-widgets/controls",
      "model_module_version": "1.5.0",
      "model_name": "BoundedIntTextModel",
      "state": {
       "description": "drive",
       "layout": "IPY_MODEL_c8e7a82790dc48ceb75104c6cf3dd892",
       "max": 6,
       "style": "IPY_MODEL_3c0a1f7d768c466d9be4e3742b076436"
      }
     },
     "a887d4916b6c4899bc414814673c31a1": {
      "model_module": "@jupyter-widgets/base",
      "model_module_version": "1.2.0",
      "model_name": "LayoutModel",
      "state": {}
     },
     "c8e7a82790dc48ceb75104c6cf3dd892": {
      "model_module": "@jupyter-widgets/base",
      "model_module_version": "1.2.0",
      "model_name": "LayoutModel",
      "state": {}
     }
    },
    "version_major": 2,
    "version_minor": 0
   }
  }
 },
 "nbformat": 4,
 "nbformat_minor": 4
}
